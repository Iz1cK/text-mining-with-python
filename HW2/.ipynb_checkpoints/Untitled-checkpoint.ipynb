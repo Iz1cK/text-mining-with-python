{
 "cells": [
  {
   "cell_type": "code",
   "execution_count": null,
   "id": "1a2bb2a7",
   "metadata": {},
   "outputs": [],
   "source": [
    "from nltk.tokenize import word_tokenize\n",
    "from nltk.probability import FreqDist\n",
    "import pandas as pd\n",
    "\n",
    "english_vocab = sorted(set(w.lower() for w in nltk.corpus.words.words()))\n",
    "stopwords = nltk.corpus.stopwords.words('English')\n",
    "\n",
    "df = pd.read_csv('Twitter_data.csv')\n",
    "descriptions = df[['twitter_desc']].to_string()\n",
    "\n",
    "fdist = FreqDist()\n",
    "for desc in descriptions:\n",
    "    print(desc)\n",
    "#     for word in word_tokenize(desc):\n",
    "#         print(word)\n",
    "#         fdist[word.lower()] += 1\n",
    "\n",
    "\n",
    "\n",
    "# print(fdist.values())"
   ]
  }
 ],
 "metadata": {
  "kernelspec": {
   "display_name": "Python 3 (ipykernel)",
   "language": "python",
   "name": "python3"
  },
  "language_info": {
   "codemirror_mode": {
    "name": "ipython",
    "version": 3
   },
   "file_extension": ".py",
   "mimetype": "text/x-python",
   "name": "python",
   "nbconvert_exporter": "python",
   "pygments_lexer": "ipython3",
   "version": "3.9.13"
  }
 },
 "nbformat": 4,
 "nbformat_minor": 5
}
